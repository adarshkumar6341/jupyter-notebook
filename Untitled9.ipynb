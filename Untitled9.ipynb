{
 "cells": [
  {
   "cell_type": "code",
   "execution_count": 13,
   "id": "354c1082",
   "metadata": {},
   "outputs": [],
   "source": [
    "import os \n",
    "import pandas as pd\n",
    "import numpy as np\n",
    "\n",
    "import matplotlib.pyplot as plt\n",
    "\n"
   ]
  },
  {
   "cell_type": "code",
   "execution_count": 17,
   "id": "7a0624db",
   "metadata": {},
   "outputs": [
    {
     "data": {
      "text/plain": [
       "'/Users/adarshkumar/Desktop/files'"
      ]
     },
     "execution_count": 17,
     "metadata": {},
     "output_type": "execute_result"
    }
   ],
   "source": [
    "os.getcwd()\n",
    "os.chdir('/Users/adarshkumar/Desktop/files')\n",
    "os.getcwd()"
   ]
  },
  {
   "cell_type": "code",
   "execution_count": 18,
   "id": "86d07d9c",
   "metadata": {},
   "outputs": [],
   "source": [
    "df=pd.read_csv(\"bmd.csv\")"
   ]
  },
  {
   "cell_type": "code",
   "execution_count": 19,
   "id": "6e80d197",
   "metadata": {},
   "outputs": [],
   "source": [
    "df_bi=pd.get_dummies(df[['sex']])"
   ]
  },
  {
   "cell_type": "code",
   "execution_count": 20,
   "id": "4103da3a",
   "metadata": {},
   "outputs": [
    {
     "name": "stdout",
     "output_type": "stream",
     "text": [
      "     sex_F  sex_M\n",
      "0        1      0\n",
      "1        1      0\n",
      "2        0      1\n",
      "3        1      0\n",
      "4        0      1\n",
      "5        0      1\n",
      "6        0      1\n",
      "7        1      0\n",
      "8        0      1\n",
      "9        0      1\n",
      "10       0      1\n",
      "11       1      0\n",
      "12       1      0\n",
      "13       0      1\n",
      "14       0      1\n",
      "15       0      1\n",
      "16       0      1\n",
      "17       0      1\n",
      "18       1      0\n",
      "19       1      0\n",
      "20       1      0\n",
      "21       0      1\n",
      "22       1      0\n",
      "23       1      0\n",
      "24       0      1\n",
      "25       1      0\n",
      "26       0      1\n",
      "27       0      1\n",
      "28       1      0\n",
      "29       0      1\n",
      "30       0      1\n",
      "31       1      0\n",
      "32       0      1\n",
      "33       1      0\n",
      "34       0      1\n",
      "35       0      1\n",
      "36       0      1\n",
      "37       0      1\n",
      "38       0      1\n",
      "39       1      0\n",
      "40       1      0\n",
      "41       1      0\n",
      "42       1      0\n",
      "43       0      1\n",
      "44       1      0\n",
      "45       1      0\n",
      "46       0      1\n",
      "47       1      0\n",
      "48       0      1\n",
      "49       0      1\n",
      "50       0      1\n",
      "51       0      1\n",
      "52       1      0\n",
      "53       0      1\n",
      "54       1      0\n",
      "55       1      0\n",
      "56       1      0\n",
      "57       0      1\n",
      "58       1      0\n",
      "59       0      1\n",
      "60       1      0\n",
      "61       0      1\n",
      "62       1      0\n",
      "63       1      0\n",
      "64       1      0\n",
      "65       1      0\n",
      "66       0      1\n",
      "67       1      0\n",
      "68       1      0\n",
      "69       1      0\n",
      "70       0      1\n",
      "71       1      0\n",
      "72       0      1\n",
      "73       1      0\n",
      "74       1      0\n",
      "75       1      0\n",
      "76       0      1\n",
      "77       0      1\n",
      "78       0      1\n",
      "79       1      0\n",
      "80       0      1\n",
      "81       0      1\n",
      "82       0      1\n",
      "83       1      0\n",
      "84       1      0\n",
      "85       0      1\n",
      "86       0      1\n",
      "87       0      1\n",
      "88       1      0\n",
      "89       0      1\n",
      "90       0      1\n",
      "91       0      1\n",
      "92       0      1\n",
      "93       1      0\n",
      "94       1      0\n",
      "95       0      1\n",
      "96       1      0\n",
      "97       0      1\n",
      "98       1      0\n",
      "99       1      0\n",
      "100      1      0\n",
      "101      0      1\n",
      "102      1      0\n",
      "103      0      1\n",
      "104      0      1\n",
      "105      1      0\n",
      "106      1      0\n",
      "107      1      0\n",
      "108      0      1\n",
      "109      1      0\n",
      "110      1      0\n",
      "111      1      0\n",
      "112      0      1\n",
      "113      0      1\n",
      "114      0      1\n",
      "115      0      1\n",
      "116      0      1\n",
      "117      1      0\n",
      "118      1      0\n",
      "119      1      0\n",
      "120      0      1\n",
      "121      0      1\n",
      "122      1      0\n",
      "123      0      1\n",
      "124      0      1\n",
      "125      1      0\n",
      "126      1      0\n",
      "127      1      0\n",
      "128      0      1\n",
      "129      1      0\n",
      "130      0      1\n",
      "131      1      0\n",
      "132      1      0\n",
      "133      1      0\n",
      "134      0      1\n",
      "135      1      0\n",
      "136      1      0\n",
      "137      0      1\n",
      "138      1      0\n",
      "139      1      0\n",
      "140      0      1\n",
      "141      1      0\n",
      "142      1      0\n",
      "143      0      1\n",
      "144      0      1\n",
      "145      0      1\n",
      "146      1      0\n",
      "147      0      1\n",
      "148      1      0\n",
      "149      1      0\n",
      "150      1      0\n",
      "151      0      1\n",
      "152      0      1\n",
      "153      1      0\n",
      "154      0      1\n",
      "155      0      1\n",
      "156      0      1\n",
      "157      1      0\n",
      "158      1      0\n",
      "159      0      1\n",
      "160      0      1\n",
      "161      0      1\n",
      "162      1      0\n",
      "163      0      1\n",
      "164      0      1\n",
      "165      1      0\n",
      "166      0      1\n",
      "167      0      1\n",
      "168      1      0\n"
     ]
    }
   ],
   "source": [
    "print(df_bi.to_string())"
   ]
  },
  {
   "cell_type": "code",
   "execution_count": 21,
   "id": "19dac96b",
   "metadata": {},
   "outputs": [
    {
     "name": "stdout",
     "output_type": "stream",
     "text": [
      "        id        age sex     fracture  weight_kg  height_cm       medication  waiting_time     bmd\n",
      "0      469  57.052768   F  no fracture       64.0      155.5   Anticonvulsant            18  0.8793\n",
      "1     8724  75.741225   F  no fracture       78.0      162.0    No medication            56  0.7946\n",
      "2     6736  70.778900   M  no fracture       73.0      170.5    No medication            10  0.9067\n",
      "3    24180  78.247175   F  no fracture       60.0      148.0    No medication            14  0.7112\n",
      "4    17072  54.191877   M  no fracture       55.0      161.0    No medication            20  0.7909\n",
      "5     3806  77.177752   M  no fracture       65.0      168.0    No medication             7  0.7301\n",
      "6    17106  56.180618   M  no fracture       77.0      159.0    No medication            26  1.0096\n",
      "7    23834  49.916140   F  no fracture       59.0      150.0    No medication             9  0.7310\n",
      "8     2454  68.408403   M  no fracture       64.0      167.0  Glucocorticoids             6  0.6893\n",
      "9     2088  66.256648   M  no fracture       72.0      159.5    No medication            10  0.9466\n",
      "10    5364  45.866582   M  no fracture       62.0      169.0    No medication            12  0.8015\n",
      "11    8922  73.970471   F  no fracture       68.0      164.0    No medication             5  0.5793\n",
      "12   23890  60.555417   F  no fracture       76.0      155.0    No medication            11  0.9760\n",
      "13    3047  64.213103   M  no fracture       90.0      175.0  Glucocorticoids            28  0.9184\n",
      "14    2179  53.395440   M  no fracture       70.0      162.5    No medication            73  0.8020\n",
      "15    3800  66.825462   M  no fracture       76.0      171.0    No medication            13  0.8033\n",
      "16    7528  57.934593   M  no fracture       67.0      160.0  Glucocorticoids             5  0.7978\n",
      "17    5288  40.232367   M  no fracture       66.0      165.0    No medication             8  1.0390\n",
      "18     109  69.048179   F  no fracture       72.0      154.0    No medication            11  0.7861\n",
      "19    8622  57.802298   F  no fracture       50.0      152.0    No medication            21  0.8254\n",
      "20   23843  58.191329   F  no fracture       59.0      154.0    No medication            10  0.8499\n",
      "21    4205  46.081550   M  no fracture       73.0      171.0    No medication            37  0.8982\n",
      "22     159  65.795352   F  no fracture       74.0      145.0    No medication            14  0.7738\n",
      "23    8960  60.189461   F  no fracture       55.0      153.5  Glucocorticoids            22  0.8377\n",
      "24   23586  54.992184   M  no fracture       75.0      172.0    No medication            64  0.8126\n",
      "25     398  51.430717   F  no fracture       67.5      154.0  Glucocorticoids            10  0.9234\n",
      "26    6732  70.198573   M  no fracture       68.0      167.0    No medication             5  1.0406\n",
      "27     688  77.155020   M  no fracture       69.0      166.0  Glucocorticoids             9  1.0020\n",
      "28     338  70.421873   F  no fracture       55.0      162.0   Anticonvulsant            15  0.6250\n",
      "29    5292  75.015480   M  no fracture       69.0      173.5    No medication            22  0.9364\n",
      "30    7776  54.912534   M  no fracture       69.0      168.0    No medication            20  1.0909\n",
      "31   23867  70.028503   F  no fracture       59.0      155.0    No medication            17  0.8079\n",
      "32    6981  48.816871   M  no fracture       96.0      169.0    No medication            33  0.8995\n",
      "33    8704  49.787437   F  no fracture       46.0      150.0    No medication            17  0.7350\n",
      "34   17086  41.417615   M  no fracture       66.0      160.0    No medication            23  1.0003\n",
      "35     812  67.924385   M  no fracture       80.0      170.0    No medication            13  1.0128\n",
      "36   22723  60.831357   M  no fracture       70.0      159.5    No medication             8  1.0265\n",
      "37    6726  62.717908   M  no fracture       78.0      161.0    No medication             8  0.8994\n",
      "38    2789  69.653731   M  no fracture       80.0      164.0    No medication            21  1.0031\n",
      "39     326  81.479690   F  no fracture       78.0      145.0    No medication            21  0.9061\n",
      "40      55  73.230427   F  no fracture       52.0      153.0    No medication            89  0.7128\n",
      "41     424  54.424211   F  no fracture       71.0      165.0    No medication            17  1.0266\n",
      "42     342  66.644866   F  no fracture       60.0      153.0    No medication            18  0.9630\n",
      "43     276  83.847735   M  no fracture       79.0      163.0    No medication             6  0.8429\n",
      "44   23912  67.651081   F  no fracture       56.0      150.0    No medication             5  0.9262\n",
      "45   23828  82.423159   F  no fracture       74.0      156.0    No medication            25  0.8171\n",
      "46    2111  54.233904   M  no fracture       50.0      169.0    No medication            12  0.7128\n",
      "47     181  42.817033   F  no fracture       56.0      151.0    No medication            10  0.8888\n",
      "48     197  69.728445   M  no fracture       84.0      164.5  Glucocorticoids            13  1.3624\n",
      "49    5509  76.863915   M  no fracture       88.0      167.0    No medication             8  1.0015\n",
      "50    2024  43.450712   M  no fracture       75.0      165.0  Glucocorticoids            16  1.0198\n",
      "51    2155  67.573380   M  no fracture       39.0      159.0    No medication            19  0.5514\n",
      "52      35  56.208127   F  no fracture       68.0      150.5    No medication            18  0.7171\n",
      "53    6973  88.753795   M  no fracture       58.0      153.0  Glucocorticoids            19  0.8548\n",
      "54     334  70.407924   F  no fracture       79.0      153.0    No medication            14  0.7766\n",
      "55    8971  62.065237   F  no fracture       85.0      148.5  Glucocorticoids             7  0.7999\n",
      "56     362  61.184672   F  no fracture       67.0      149.0    No medication             6  0.8013\n",
      "57   17116  48.289488   M  no fracture       68.0      160.0    No medication            14  0.9716\n",
      "58     134  49.731324   F  no fracture       72.0      160.5    No medication            60  0.9851\n",
      "59    3088  36.648311   M  no fracture       54.0      175.0    No medication            11  0.8560\n",
      "60   23861  63.673184   F  no fracture       63.0      158.0    No medication            34  0.7095\n",
      "61   22162  74.178356   M  no fracture       60.0      166.0    No medication            18  0.6338\n",
      "62    9051  63.287288   F  no fracture       62.0      165.5    No medication            28  0.7384\n",
      "63    8906  56.958721   F  no fracture       59.0      164.0    No medication            11  0.7347\n",
      "64    8829  46.564902   F  no fracture       56.0      157.0    No medication            27  0.7346\n",
      "65    8854  47.024651   F  no fracture       47.0      148.5  Glucocorticoids            22  0.6496\n",
      "66    3090  84.787394   M  no fracture       68.0      165.0    No medication            11  1.2508\n",
      "67     304  54.406178   F  no fracture       69.0      160.0    No medication             8  0.8819\n",
      "68    8896  51.596540   F  no fracture       54.0      154.0    No medication            13  0.7755\n",
      "69    8674  61.170085   F  no fracture       70.0      152.0    No medication            11  0.8599\n",
      "70   22168  73.940306   M  no fracture       75.0      164.5  Glucocorticoids             8  0.8829\n",
      "71    8590  54.772774   F  no fracture       62.0      158.0    No medication             8  0.7966\n",
      "72   24097  66.672692   M  no fracture       75.0      166.0    No medication            10  0.7758\n",
      "73   24051  59.461317   F  no fracture       82.0      148.5    No medication            13  0.9036\n",
      "74    8850  50.360516   F  no fracture       73.0      161.5  Glucocorticoids            15  0.8638\n",
      "75    9016  55.411710   F  no fracture       59.0      160.0    No medication             6  0.7510\n",
      "76     191  56.545818   M  no fracture       71.0      166.0    No medication            15  1.0839\n",
      "77    7831  63.487837   M  no fracture       55.0      164.0  Glucocorticoids            11  0.7409\n",
      "78    2181  72.080558   M  no fracture       69.0      164.0    No medication             9  0.9990\n",
      "79    8642  58.262215   F  no fracture       51.0      150.5   Anticonvulsant             9  0.5899\n",
      "80    5360  58.670872   M  no fracture       62.0      170.0    No medication            24  0.8720\n",
      "81    6924  58.335052   M  no fracture       91.0      176.0    No medication            24  1.1335\n",
      "82    6696  39.254947   M  no fracture       76.0      173.5    No medication             6  1.0502\n",
      "83    8999  60.236582   F  no fracture       70.0      158.0  Glucocorticoids             8  0.8362\n",
      "84    8751  63.769545   F  no fracture       56.0      152.0  Glucocorticoids             7  0.7215\n",
      "85    2143  44.239679   M  no fracture       81.0      177.0    No medication             7  0.9824\n",
      "86   17182  79.399707   M  no fracture       76.0      161.0    No medication            14  0.9436\n",
      "87   17128  65.134357   M  no fracture       67.0      157.0    No medication             5  0.8622\n",
      "88   23855  66.559218   F  no fracture       63.0      159.0    No medication            10  0.7805\n",
      "89    5495  35.814058   M  no fracture       79.0      168.5    No medication            33  0.7895\n",
      "90   22768  69.086638   M  no fracture       77.0      162.0    No medication            38  0.8509\n",
      "91   17052  59.261179   M  no fracture       55.0      163.0  Glucocorticoids            23  0.7660\n",
      "92   23625  59.707221   M  no fracture       78.0      175.0    No medication            29  0.8593\n",
      "93    8950  61.600414   F  no fracture       68.0      159.0    No medication             7  0.9139\n",
      "94     175  69.237190   F  no fracture       78.0      158.0    No medication            39  0.7586\n",
      "95   17100  52.322522   M  no fracture       71.0      165.0    No medication            21  0.8776\n",
      "96   24200  72.772387   F  no fracture       81.0      149.5  Glucocorticoids             9  0.5090\n",
      "97   17140  60.221386   M  no fracture       94.0      166.0    No medication            18  1.0617\n",
      "98   24208  58.812410   F  no fracture       74.0      149.0    No medication            38  0.8307\n",
      "99    8574  54.497626   F  no fracture       57.0      165.5    No medication            29  0.7311\n",
      "100  23904  52.900994   F  no fracture       61.0      154.0    No medication             9  0.9706\n",
      "101  17178  63.024697   M  no fracture       71.0      161.0    No medication            12  1.0366\n",
      "102   8876  64.065950   F  no fracture       60.0      165.0    No medication            11  0.7782\n",
      "103  17090  52.792921   M  no fracture       77.0      175.5    No medication            19  0.8888\n",
      "104   6684  49.209663   M  no fracture       66.0      157.0    No medication            47  0.7269\n",
      "105  23794  68.571308   F  no fracture       48.0      161.0    No medication             6  0.7096\n",
      "106     77  77.906400   F  no fracture       50.0      152.0    No medication            24  0.6122\n",
      "107  24204  68.550879   F  no fracture       70.0      154.0    No medication            14  0.8390\n",
      "108   6676  44.683127   M  no fracture       67.0      172.0    No medication             6  0.9010\n",
      "109     69  67.925528   F  no fracture       62.0      159.0    No medication            30  1.0176\n",
      "110   8592  68.068253   F  no fracture       49.0      144.0    No medication            51  0.7509\n",
      "111  23790  52.478311   F  no fracture       59.0      150.5    No medication             6  0.7314\n",
      "112   6702  60.883596   M  no fracture       73.0      166.5    No medication             5  0.8370\n",
      "113   5320  43.463171   M  no fracture       51.0      162.0    No medication            23  0.7960\n",
      "114   2306  57.569180   M  no fracture       74.0      176.0   Anticonvulsant            29  1.0287\n",
      "115    446  56.964458   M  no fracture       64.5      162.0  Glucocorticoids             9  0.7201\n",
      "116   6602  52.246552   M  no fracture       64.0      168.0    No medication            10  0.6187\n",
      "117  23873  56.931266   F  no fracture       60.0      159.0   Anticonvulsant            40  0.6744\n",
      "118   8892  66.335623   F  no fracture       62.0      150.5    No medication             5  0.8681\n",
      "119    165  83.093647   F     fracture       52.0      156.0   Anticonvulsant            20  0.4586\n",
      "120    690  81.481370   M     fracture       54.0      154.0  Glucocorticoids            12  0.4818\n",
      "121   5350  53.531717   M     fracture       69.0      163.5    No medication            32  0.5279\n",
      "122    434  69.213935   F     fracture       56.0      157.0    No medication            15  0.5285\n",
      "123    278  73.067598   M     fracture       54.0      166.0    No medication            31  0.5287\n",
      "124   2029  87.934942   M     fracture       57.0      156.5    No medication            69  0.5387\n",
      "125    103  77.768677   F     fracture       61.0      150.0    No medication             7  0.5419\n",
      "126    382  81.087385   F     fracture       50.0      149.5    No medication             7  0.5515\n",
      "127  23919  53.769290   F     fracture       40.0      150.0  Glucocorticoids            34  0.5579\n",
      "128   5348  80.773193   M     fracture       79.0      159.0  Glucocorticoids            10  0.5676\n",
      "129    224  76.944737   F     fracture       37.0      152.0    No medication             7  0.5635\n",
      "130   2458  82.407179   M     fracture       48.0      158.0    No medication            21  0.5721\n",
      "131    322  57.581198   F     fracture       36.0      152.0    No medication            35  0.5294\n",
      "132    302  77.819623   F     fracture       48.0      151.0    No medication            32  0.5547\n",
      "133     67  76.745516   F     fracture       52.0      146.0  Glucocorticoids            20  0.5603\n",
      "134   4335  54.152735   M     fracture       79.0      161.0    No medication            38  0.5693\n",
      "135  24031  72.270137   F     fracture       50.0      154.0    No medication            47  0.6001\n",
      "136  24027  68.017748   F     fracture       58.0      153.0    No medication             8  0.6103\n",
      "137    442  88.024151   M     fracture       52.0      151.5    No medication            12  0.6204\n",
      "138  23995  69.977701   F     fracture       85.0      148.5    No medication            26  0.6264\n",
      "139    145  71.172124   F     fracture       63.0      148.0  Glucocorticoids            59  0.4076\n",
      "140   5503  70.947564   M     fracture       59.0      167.0    No medication            21  0.4407\n",
      "141   8938  74.796883   F     fracture       48.0      160.0    No medication            96  0.4852\n",
      "142     87  83.219823   F     fracture       51.0      150.0    No medication             9  0.5555\n",
      "143  17082  81.979559   M     fracture       66.0      166.0    No medication            23  0.5615\n",
      "144   2006  85.901595   M     fracture       57.0      163.0    No medication            24  0.6102\n",
      "145   4070  71.471721   M     fracture       62.0      177.0    No medication             6  0.6297\n",
      "146  24190  76.732604   F     fracture       73.0      155.5    No medication            11  0.6385\n",
      "147   2314  83.678357   M     fracture       56.0      168.0    No medication             7  0.6388\n",
      "148    292  85.576311   F     fracture       41.0      142.0    No medication             7  0.6409\n",
      "149  24192  70.810941   F     fracture       66.0      151.0    No medication            14  0.6432\n",
      "150  24182  68.683288   F     fracture       48.0      154.0    No medication            13  0.6448\n",
      "151   2018  86.859869   M     fracture       54.0      170.0   Anticonvulsant            29  0.6495\n",
      "152   5523  80.060205   M     fracture       62.0      162.5   Anticonvulsant            15  0.6708\n",
      "153   9028  61.644504   F     fracture       55.0      162.0    No medication            34  0.6880\n",
      "154   3079  66.804185   M     fracture       61.0      168.5    No medication            17  0.6882\n",
      "155    834  37.461995   M     fracture       55.0      156.0    No medication             7  0.6884\n",
      "156  17104  63.441966   M     fracture       64.0      174.0    No medication            23  0.6899\n",
      "157    354  51.048370   F     fracture       68.0      164.5    No medication            38  0.6904\n",
      "158  23902  48.523651   F     fracture       55.0      159.5    No medication            11  0.6904\n",
      "159   5298  41.351200   M     fracture       45.0      159.5    No medication             6  0.7076\n",
      "160   2797  84.721764   M     fracture       52.0      161.0    No medication            32  0.7085\n",
      "161   2020  59.076082   M     fracture       64.0      170.0    No medication            20  0.7246\n",
      "162  23824  50.276059   F     fracture       60.0      170.0   Anticonvulsant            48  0.7399\n",
      "163   7192  67.252163   M     fracture       80.0      172.0    No medication             8  0.7745\n",
      "164  21892  77.982543   M     fracture       74.0      164.0    No medication            49  0.7941\n",
      "165  24140  50.285303   F     fracture       59.0      161.0    No medication             6  0.7971\n",
      "166   6969  46.359721   M     fracture       67.0      169.0    No medication            10  0.8037\n",
      "167   5505  54.788368   M     fracture       70.0      166.0    No medication            14  0.8072\n",
      "168     71  69.994822   F     fracture       68.5      165.0    No medication            25  0.8664\n"
     ]
    }
   ],
   "source": [
    "print(df.to_string())"
   ]
  },
  {
   "cell_type": "code",
   "execution_count": 105,
   "id": "ae9baab6",
   "metadata": {},
   "outputs": [
    {
     "data": {
      "text/html": [
       "<div>\n",
       "<style scoped>\n",
       "    .dataframe tbody tr th:only-of-type {\n",
       "        vertical-align: middle;\n",
       "    }\n",
       "\n",
       "    .dataframe tbody tr th {\n",
       "        vertical-align: top;\n",
       "    }\n",
       "\n",
       "    .dataframe thead th {\n",
       "        text-align: right;\n",
       "    }\n",
       "</style>\n",
       "<table border=\"1\" class=\"dataframe\">\n",
       "  <thead>\n",
       "    <tr style=\"text-align: right;\">\n",
       "      <th></th>\n",
       "      <th>id</th>\n",
       "      <th>age</th>\n",
       "      <th>weight_kg</th>\n",
       "      <th>height_cm</th>\n",
       "      <th>waiting_time</th>\n",
       "      <th>bmd</th>\n",
       "    </tr>\n",
       "  </thead>\n",
       "  <tbody>\n",
       "    <tr>\n",
       "      <th>count</th>\n",
       "      <td>169.000000</td>\n",
       "      <td>169.000000</td>\n",
       "      <td>169.000000</td>\n",
       "      <td>169.000000</td>\n",
       "      <td>169.000000</td>\n",
       "      <td>169.000000</td>\n",
       "    </tr>\n",
       "    <tr>\n",
       "      <th>mean</th>\n",
       "      <td>9102.556213</td>\n",
       "      <td>63.631531</td>\n",
       "      <td>64.665680</td>\n",
       "      <td>160.254438</td>\n",
       "      <td>19.739645</td>\n",
       "      <td>0.783104</td>\n",
       "    </tr>\n",
       "    <tr>\n",
       "      <th>std</th>\n",
       "      <td>8744.623598</td>\n",
       "      <td>12.356936</td>\n",
       "      <td>11.537171</td>\n",
       "      <td>7.928272</td>\n",
       "      <td>15.800570</td>\n",
       "      <td>0.166529</td>\n",
       "    </tr>\n",
       "    <tr>\n",
       "      <th>min</th>\n",
       "      <td>35.000000</td>\n",
       "      <td>35.814058</td>\n",
       "      <td>36.000000</td>\n",
       "      <td>142.000000</td>\n",
       "      <td>5.000000</td>\n",
       "      <td>0.407600</td>\n",
       "    </tr>\n",
       "    <tr>\n",
       "      <th>25%</th>\n",
       "      <td>2018.000000</td>\n",
       "      <td>54.424211</td>\n",
       "      <td>56.000000</td>\n",
       "      <td>154.000000</td>\n",
       "      <td>9.000000</td>\n",
       "      <td>0.670800</td>\n",
       "    </tr>\n",
       "    <tr>\n",
       "      <th>50%</th>\n",
       "      <td>6702.000000</td>\n",
       "      <td>63.487837</td>\n",
       "      <td>64.500000</td>\n",
       "      <td>160.500000</td>\n",
       "      <td>14.000000</td>\n",
       "      <td>0.786100</td>\n",
       "    </tr>\n",
       "    <tr>\n",
       "      <th>75%</th>\n",
       "      <td>17100.000000</td>\n",
       "      <td>72.080558</td>\n",
       "      <td>73.000000</td>\n",
       "      <td>166.000000</td>\n",
       "      <td>24.000000</td>\n",
       "      <td>0.888800</td>\n",
       "    </tr>\n",
       "    <tr>\n",
       "      <th>max</th>\n",
       "      <td>24208.000000</td>\n",
       "      <td>88.753795</td>\n",
       "      <td>96.000000</td>\n",
       "      <td>177.000000</td>\n",
       "      <td>96.000000</td>\n",
       "      <td>1.362400</td>\n",
       "    </tr>\n",
       "  </tbody>\n",
       "</table>\n",
       "</div>"
      ],
      "text/plain": [
       "                 id         age   weight_kg   height_cm  waiting_time  \\\n",
       "count    169.000000  169.000000  169.000000  169.000000    169.000000   \n",
       "mean    9102.556213   63.631531   64.665680  160.254438     19.739645   \n",
       "std     8744.623598   12.356936   11.537171    7.928272     15.800570   \n",
       "min       35.000000   35.814058   36.000000  142.000000      5.000000   \n",
       "25%     2018.000000   54.424211   56.000000  154.000000      9.000000   \n",
       "50%     6702.000000   63.487837   64.500000  160.500000     14.000000   \n",
       "75%    17100.000000   72.080558   73.000000  166.000000     24.000000   \n",
       "max    24208.000000   88.753795   96.000000  177.000000     96.000000   \n",
       "\n",
       "              bmd  \n",
       "count  169.000000  \n",
       "mean     0.783104  \n",
       "std      0.166529  \n",
       "min      0.407600  \n",
       "25%      0.670800  \n",
       "50%      0.786100  \n",
       "75%      0.888800  \n",
       "max      1.362400  "
      ]
     },
     "execution_count": 105,
     "metadata": {},
     "output_type": "execute_result"
    }
   ],
   "source": [
    "df.describe()"
   ]
  },
  {
   "cell_type": "code",
   "execution_count": 106,
   "id": "125e9452",
   "metadata": {},
   "outputs": [
    {
     "data": {
      "text/html": [
       "<div>\n",
       "<style scoped>\n",
       "    .dataframe tbody tr th:only-of-type {\n",
       "        vertical-align: middle;\n",
       "    }\n",
       "\n",
       "    .dataframe tbody tr th {\n",
       "        vertical-align: top;\n",
       "    }\n",
       "\n",
       "    .dataframe thead th {\n",
       "        text-align: right;\n",
       "    }\n",
       "</style>\n",
       "<table border=\"1\" class=\"dataframe\">\n",
       "  <thead>\n",
       "    <tr style=\"text-align: right;\">\n",
       "      <th></th>\n",
       "      <th>id</th>\n",
       "      <th>age</th>\n",
       "      <th>sex</th>\n",
       "      <th>fracture</th>\n",
       "      <th>weight_kg</th>\n",
       "      <th>height_cm</th>\n",
       "      <th>medication</th>\n",
       "      <th>waiting_time</th>\n",
       "      <th>bmd</th>\n",
       "    </tr>\n",
       "  </thead>\n",
       "  <tbody>\n",
       "    <tr>\n",
       "      <th>0</th>\n",
       "      <td>469</td>\n",
       "      <td>57.052768</td>\n",
       "      <td>F</td>\n",
       "      <td>no fracture</td>\n",
       "      <td>64.0</td>\n",
       "      <td>155.5</td>\n",
       "      <td>Anticonvulsant</td>\n",
       "      <td>18</td>\n",
       "      <td>0.8793</td>\n",
       "    </tr>\n",
       "    <tr>\n",
       "      <th>1</th>\n",
       "      <td>8724</td>\n",
       "      <td>75.741225</td>\n",
       "      <td>F</td>\n",
       "      <td>no fracture</td>\n",
       "      <td>78.0</td>\n",
       "      <td>162.0</td>\n",
       "      <td>No medication</td>\n",
       "      <td>56</td>\n",
       "      <td>0.7946</td>\n",
       "    </tr>\n",
       "    <tr>\n",
       "      <th>2</th>\n",
       "      <td>6736</td>\n",
       "      <td>70.778900</td>\n",
       "      <td>M</td>\n",
       "      <td>no fracture</td>\n",
       "      <td>73.0</td>\n",
       "      <td>170.5</td>\n",
       "      <td>No medication</td>\n",
       "      <td>10</td>\n",
       "      <td>0.9067</td>\n",
       "    </tr>\n",
       "    <tr>\n",
       "      <th>3</th>\n",
       "      <td>24180</td>\n",
       "      <td>78.247175</td>\n",
       "      <td>F</td>\n",
       "      <td>no fracture</td>\n",
       "      <td>60.0</td>\n",
       "      <td>148.0</td>\n",
       "      <td>No medication</td>\n",
       "      <td>14</td>\n",
       "      <td>0.7112</td>\n",
       "    </tr>\n",
       "    <tr>\n",
       "      <th>4</th>\n",
       "      <td>17072</td>\n",
       "      <td>54.191877</td>\n",
       "      <td>M</td>\n",
       "      <td>no fracture</td>\n",
       "      <td>55.0</td>\n",
       "      <td>161.0</td>\n",
       "      <td>No medication</td>\n",
       "      <td>20</td>\n",
       "      <td>0.7909</td>\n",
       "    </tr>\n",
       "    <tr>\n",
       "      <th>...</th>\n",
       "      <td>...</td>\n",
       "      <td>...</td>\n",
       "      <td>...</td>\n",
       "      <td>...</td>\n",
       "      <td>...</td>\n",
       "      <td>...</td>\n",
       "      <td>...</td>\n",
       "      <td>...</td>\n",
       "      <td>...</td>\n",
       "    </tr>\n",
       "    <tr>\n",
       "      <th>164</th>\n",
       "      <td>21892</td>\n",
       "      <td>77.982543</td>\n",
       "      <td>M</td>\n",
       "      <td>fracture</td>\n",
       "      <td>74.0</td>\n",
       "      <td>164.0</td>\n",
       "      <td>No medication</td>\n",
       "      <td>49</td>\n",
       "      <td>0.7941</td>\n",
       "    </tr>\n",
       "    <tr>\n",
       "      <th>165</th>\n",
       "      <td>24140</td>\n",
       "      <td>50.285303</td>\n",
       "      <td>F</td>\n",
       "      <td>fracture</td>\n",
       "      <td>59.0</td>\n",
       "      <td>161.0</td>\n",
       "      <td>No medication</td>\n",
       "      <td>6</td>\n",
       "      <td>0.7971</td>\n",
       "    </tr>\n",
       "    <tr>\n",
       "      <th>166</th>\n",
       "      <td>6969</td>\n",
       "      <td>46.359721</td>\n",
       "      <td>M</td>\n",
       "      <td>fracture</td>\n",
       "      <td>67.0</td>\n",
       "      <td>169.0</td>\n",
       "      <td>No medication</td>\n",
       "      <td>10</td>\n",
       "      <td>0.8037</td>\n",
       "    </tr>\n",
       "    <tr>\n",
       "      <th>167</th>\n",
       "      <td>5505</td>\n",
       "      <td>54.788368</td>\n",
       "      <td>M</td>\n",
       "      <td>fracture</td>\n",
       "      <td>70.0</td>\n",
       "      <td>166.0</td>\n",
       "      <td>No medication</td>\n",
       "      <td>14</td>\n",
       "      <td>0.8072</td>\n",
       "    </tr>\n",
       "    <tr>\n",
       "      <th>168</th>\n",
       "      <td>71</td>\n",
       "      <td>69.994822</td>\n",
       "      <td>F</td>\n",
       "      <td>fracture</td>\n",
       "      <td>68.5</td>\n",
       "      <td>165.0</td>\n",
       "      <td>No medication</td>\n",
       "      <td>25</td>\n",
       "      <td>0.8664</td>\n",
       "    </tr>\n",
       "  </tbody>\n",
       "</table>\n",
       "<p>169 rows × 9 columns</p>\n",
       "</div>"
      ],
      "text/plain": [
       "        id        age sex     fracture  weight_kg  height_cm      medication  \\\n",
       "0      469  57.052768   F  no fracture       64.0      155.5  Anticonvulsant   \n",
       "1     8724  75.741225   F  no fracture       78.0      162.0   No medication   \n",
       "2     6736  70.778900   M  no fracture       73.0      170.5   No medication   \n",
       "3    24180  78.247175   F  no fracture       60.0      148.0   No medication   \n",
       "4    17072  54.191877   M  no fracture       55.0      161.0   No medication   \n",
       "..     ...        ...  ..          ...        ...        ...             ...   \n",
       "164  21892  77.982543   M     fracture       74.0      164.0   No medication   \n",
       "165  24140  50.285303   F     fracture       59.0      161.0   No medication   \n",
       "166   6969  46.359721   M     fracture       67.0      169.0   No medication   \n",
       "167   5505  54.788368   M     fracture       70.0      166.0   No medication   \n",
       "168     71  69.994822   F     fracture       68.5      165.0   No medication   \n",
       "\n",
       "     waiting_time     bmd  \n",
       "0              18  0.8793  \n",
       "1              56  0.7946  \n",
       "2              10  0.9067  \n",
       "3              14  0.7112  \n",
       "4              20  0.7909  \n",
       "..            ...     ...  \n",
       "164            49  0.7941  \n",
       "165             6  0.7971  \n",
       "166            10  0.8037  \n",
       "167            14  0.8072  \n",
       "168            25  0.8664  \n",
       "\n",
       "[169 rows x 9 columns]"
      ]
     },
     "execution_count": 106,
     "metadata": {},
     "output_type": "execute_result"
    }
   ],
   "source": [
    "df"
   ]
  },
  {
   "cell_type": "code",
   "execution_count": 107,
   "id": "d53ea0aa",
   "metadata": {},
   "outputs": [
    {
     "data": {
      "text/html": [
       "<div>\n",
       "<style scoped>\n",
       "    .dataframe tbody tr th:only-of-type {\n",
       "        vertical-align: middle;\n",
       "    }\n",
       "\n",
       "    .dataframe tbody tr th {\n",
       "        vertical-align: top;\n",
       "    }\n",
       "\n",
       "    .dataframe thead th {\n",
       "        text-align: right;\n",
       "    }\n",
       "</style>\n",
       "<table border=\"1\" class=\"dataframe\">\n",
       "  <thead>\n",
       "    <tr style=\"text-align: right;\">\n",
       "      <th></th>\n",
       "      <th>id</th>\n",
       "      <th>age</th>\n",
       "      <th>sex</th>\n",
       "      <th>fracture</th>\n",
       "      <th>weight_kg</th>\n",
       "      <th>height_cm</th>\n",
       "      <th>medication</th>\n",
       "      <th>waiting_time</th>\n",
       "      <th>bmd</th>\n",
       "    </tr>\n",
       "  </thead>\n",
       "  <tbody>\n",
       "    <tr>\n",
       "      <th>73</th>\n",
       "      <td>24051</td>\n",
       "      <td>59.461317</td>\n",
       "      <td>F</td>\n",
       "      <td>no fracture</td>\n",
       "      <td>82.0</td>\n",
       "      <td>148.5</td>\n",
       "      <td>No medication</td>\n",
       "      <td>13</td>\n",
       "      <td>0.9036</td>\n",
       "    </tr>\n",
       "    <tr>\n",
       "      <th>90</th>\n",
       "      <td>22768</td>\n",
       "      <td>69.086638</td>\n",
       "      <td>M</td>\n",
       "      <td>no fracture</td>\n",
       "      <td>77.0</td>\n",
       "      <td>162.0</td>\n",
       "      <td>No medication</td>\n",
       "      <td>38</td>\n",
       "      <td>0.8509</td>\n",
       "    </tr>\n",
       "    <tr>\n",
       "      <th>42</th>\n",
       "      <td>342</td>\n",
       "      <td>66.644866</td>\n",
       "      <td>F</td>\n",
       "      <td>no fracture</td>\n",
       "      <td>60.0</td>\n",
       "      <td>153.0</td>\n",
       "      <td>No medication</td>\n",
       "      <td>18</td>\n",
       "      <td>0.9630</td>\n",
       "    </tr>\n",
       "    <tr>\n",
       "      <th>161</th>\n",
       "      <td>2020</td>\n",
       "      <td>59.076082</td>\n",
       "      <td>M</td>\n",
       "      <td>fracture</td>\n",
       "      <td>64.0</td>\n",
       "      <td>170.0</td>\n",
       "      <td>No medication</td>\n",
       "      <td>20</td>\n",
       "      <td>0.7246</td>\n",
       "    </tr>\n",
       "    <tr>\n",
       "      <th>165</th>\n",
       "      <td>24140</td>\n",
       "      <td>50.285303</td>\n",
       "      <td>F</td>\n",
       "      <td>fracture</td>\n",
       "      <td>59.0</td>\n",
       "      <td>161.0</td>\n",
       "      <td>No medication</td>\n",
       "      <td>6</td>\n",
       "      <td>0.7971</td>\n",
       "    </tr>\n",
       "    <tr>\n",
       "      <th>...</th>\n",
       "      <td>...</td>\n",
       "      <td>...</td>\n",
       "      <td>...</td>\n",
       "      <td>...</td>\n",
       "      <td>...</td>\n",
       "      <td>...</td>\n",
       "      <td>...</td>\n",
       "      <td>...</td>\n",
       "      <td>...</td>\n",
       "    </tr>\n",
       "    <tr>\n",
       "      <th>145</th>\n",
       "      <td>4070</td>\n",
       "      <td>71.471721</td>\n",
       "      <td>M</td>\n",
       "      <td>fracture</td>\n",
       "      <td>62.0</td>\n",
       "      <td>177.0</td>\n",
       "      <td>No medication</td>\n",
       "      <td>6</td>\n",
       "      <td>0.6297</td>\n",
       "    </tr>\n",
       "    <tr>\n",
       "      <th>15</th>\n",
       "      <td>3800</td>\n",
       "      <td>66.825462</td>\n",
       "      <td>M</td>\n",
       "      <td>no fracture</td>\n",
       "      <td>76.0</td>\n",
       "      <td>171.0</td>\n",
       "      <td>No medication</td>\n",
       "      <td>13</td>\n",
       "      <td>0.8033</td>\n",
       "    </tr>\n",
       "    <tr>\n",
       "      <th>40</th>\n",
       "      <td>55</td>\n",
       "      <td>73.230427</td>\n",
       "      <td>F</td>\n",
       "      <td>no fracture</td>\n",
       "      <td>52.0</td>\n",
       "      <td>153.0</td>\n",
       "      <td>No medication</td>\n",
       "      <td>89</td>\n",
       "      <td>0.7128</td>\n",
       "    </tr>\n",
       "    <tr>\n",
       "      <th>44</th>\n",
       "      <td>23912</td>\n",
       "      <td>67.651081</td>\n",
       "      <td>F</td>\n",
       "      <td>no fracture</td>\n",
       "      <td>56.0</td>\n",
       "      <td>150.0</td>\n",
       "      <td>No medication</td>\n",
       "      <td>5</td>\n",
       "      <td>0.9262</td>\n",
       "    </tr>\n",
       "    <tr>\n",
       "      <th>36</th>\n",
       "      <td>22723</td>\n",
       "      <td>60.831357</td>\n",
       "      <td>M</td>\n",
       "      <td>no fracture</td>\n",
       "      <td>70.0</td>\n",
       "      <td>159.5</td>\n",
       "      <td>No medication</td>\n",
       "      <td>8</td>\n",
       "      <td>1.0265</td>\n",
       "    </tr>\n",
       "  </tbody>\n",
       "</table>\n",
       "<p>169 rows × 9 columns</p>\n",
       "</div>"
      ],
      "text/plain": [
       "        id        age sex     fracture  weight_kg  height_cm     medication  \\\n",
       "73   24051  59.461317   F  no fracture       82.0      148.5  No medication   \n",
       "90   22768  69.086638   M  no fracture       77.0      162.0  No medication   \n",
       "42     342  66.644866   F  no fracture       60.0      153.0  No medication   \n",
       "161   2020  59.076082   M     fracture       64.0      170.0  No medication   \n",
       "165  24140  50.285303   F     fracture       59.0      161.0  No medication   \n",
       "..     ...        ...  ..          ...        ...        ...            ...   \n",
       "145   4070  71.471721   M     fracture       62.0      177.0  No medication   \n",
       "15    3800  66.825462   M  no fracture       76.0      171.0  No medication   \n",
       "40      55  73.230427   F  no fracture       52.0      153.0  No medication   \n",
       "44   23912  67.651081   F  no fracture       56.0      150.0  No medication   \n",
       "36   22723  60.831357   M  no fracture       70.0      159.5  No medication   \n",
       "\n",
       "     waiting_time     bmd  \n",
       "73             13  0.9036  \n",
       "90             38  0.8509  \n",
       "42             18  0.9630  \n",
       "161            20  0.7246  \n",
       "165             6  0.7971  \n",
       "..            ...     ...  \n",
       "145             6  0.6297  \n",
       "15             13  0.8033  \n",
       "40             89  0.7128  \n",
       "44              5  0.9262  \n",
       "36              8  1.0265  \n",
       "\n",
       "[169 rows x 9 columns]"
      ]
     },
     "execution_count": 107,
     "metadata": {},
     "output_type": "execute_result"
    }
   ],
   "source": [
    "df.sample(169)"
   ]
  },
  {
   "cell_type": "code",
   "execution_count": 108,
   "id": "d166badd",
   "metadata": {},
   "outputs": [
    {
     "data": {
      "text/html": [
       "<div>\n",
       "<style scoped>\n",
       "    .dataframe tbody tr th:only-of-type {\n",
       "        vertical-align: middle;\n",
       "    }\n",
       "\n",
       "    .dataframe tbody tr th {\n",
       "        vertical-align: top;\n",
       "    }\n",
       "\n",
       "    .dataframe thead th {\n",
       "        text-align: right;\n",
       "    }\n",
       "</style>\n",
       "<table border=\"1\" class=\"dataframe\">\n",
       "  <thead>\n",
       "    <tr style=\"text-align: right;\">\n",
       "      <th></th>\n",
       "      <th>id</th>\n",
       "      <th>age</th>\n",
       "      <th>sex</th>\n",
       "      <th>fracture</th>\n",
       "      <th>weight_kg</th>\n",
       "      <th>height_cm</th>\n",
       "      <th>medication</th>\n",
       "      <th>waiting_time</th>\n",
       "      <th>bmd</th>\n",
       "    </tr>\n",
       "  </thead>\n",
       "  <tbody>\n",
       "    <tr>\n",
       "      <th>0</th>\n",
       "      <td>469</td>\n",
       "      <td>57.052768</td>\n",
       "      <td>F</td>\n",
       "      <td>no fracture</td>\n",
       "      <td>64.0</td>\n",
       "      <td>155.5</td>\n",
       "      <td>Anticonvulsant</td>\n",
       "      <td>18</td>\n",
       "      <td>0.8793</td>\n",
       "    </tr>\n",
       "    <tr>\n",
       "      <th>1</th>\n",
       "      <td>8724</td>\n",
       "      <td>75.741225</td>\n",
       "      <td>F</td>\n",
       "      <td>no fracture</td>\n",
       "      <td>78.0</td>\n",
       "      <td>162.0</td>\n",
       "      <td>No medication</td>\n",
       "      <td>56</td>\n",
       "      <td>0.7946</td>\n",
       "    </tr>\n",
       "    <tr>\n",
       "      <th>2</th>\n",
       "      <td>6736</td>\n",
       "      <td>70.778900</td>\n",
       "      <td>M</td>\n",
       "      <td>no fracture</td>\n",
       "      <td>73.0</td>\n",
       "      <td>170.5</td>\n",
       "      <td>No medication</td>\n",
       "      <td>10</td>\n",
       "      <td>0.9067</td>\n",
       "    </tr>\n",
       "    <tr>\n",
       "      <th>3</th>\n",
       "      <td>24180</td>\n",
       "      <td>78.247175</td>\n",
       "      <td>F</td>\n",
       "      <td>no fracture</td>\n",
       "      <td>60.0</td>\n",
       "      <td>148.0</td>\n",
       "      <td>No medication</td>\n",
       "      <td>14</td>\n",
       "      <td>0.7112</td>\n",
       "    </tr>\n",
       "    <tr>\n",
       "      <th>4</th>\n",
       "      <td>17072</td>\n",
       "      <td>54.191877</td>\n",
       "      <td>M</td>\n",
       "      <td>no fracture</td>\n",
       "      <td>55.0</td>\n",
       "      <td>161.0</td>\n",
       "      <td>No medication</td>\n",
       "      <td>20</td>\n",
       "      <td>0.7909</td>\n",
       "    </tr>\n",
       "    <tr>\n",
       "      <th>...</th>\n",
       "      <td>...</td>\n",
       "      <td>...</td>\n",
       "      <td>...</td>\n",
       "      <td>...</td>\n",
       "      <td>...</td>\n",
       "      <td>...</td>\n",
       "      <td>...</td>\n",
       "      <td>...</td>\n",
       "      <td>...</td>\n",
       "    </tr>\n",
       "    <tr>\n",
       "      <th>164</th>\n",
       "      <td>21892</td>\n",
       "      <td>77.982543</td>\n",
       "      <td>M</td>\n",
       "      <td>fracture</td>\n",
       "      <td>74.0</td>\n",
       "      <td>164.0</td>\n",
       "      <td>No medication</td>\n",
       "      <td>49</td>\n",
       "      <td>0.7941</td>\n",
       "    </tr>\n",
       "    <tr>\n",
       "      <th>165</th>\n",
       "      <td>24140</td>\n",
       "      <td>50.285303</td>\n",
       "      <td>F</td>\n",
       "      <td>fracture</td>\n",
       "      <td>59.0</td>\n",
       "      <td>161.0</td>\n",
       "      <td>No medication</td>\n",
       "      <td>6</td>\n",
       "      <td>0.7971</td>\n",
       "    </tr>\n",
       "    <tr>\n",
       "      <th>166</th>\n",
       "      <td>6969</td>\n",
       "      <td>46.359721</td>\n",
       "      <td>M</td>\n",
       "      <td>fracture</td>\n",
       "      <td>67.0</td>\n",
       "      <td>169.0</td>\n",
       "      <td>No medication</td>\n",
       "      <td>10</td>\n",
       "      <td>0.8037</td>\n",
       "    </tr>\n",
       "    <tr>\n",
       "      <th>167</th>\n",
       "      <td>5505</td>\n",
       "      <td>54.788368</td>\n",
       "      <td>M</td>\n",
       "      <td>fracture</td>\n",
       "      <td>70.0</td>\n",
       "      <td>166.0</td>\n",
       "      <td>No medication</td>\n",
       "      <td>14</td>\n",
       "      <td>0.8072</td>\n",
       "    </tr>\n",
       "    <tr>\n",
       "      <th>168</th>\n",
       "      <td>71</td>\n",
       "      <td>69.994822</td>\n",
       "      <td>F</td>\n",
       "      <td>fracture</td>\n",
       "      <td>68.5</td>\n",
       "      <td>165.0</td>\n",
       "      <td>No medication</td>\n",
       "      <td>25</td>\n",
       "      <td>0.8664</td>\n",
       "    </tr>\n",
       "  </tbody>\n",
       "</table>\n",
       "<p>166 rows × 9 columns</p>\n",
       "</div>"
      ],
      "text/plain": [
       "        id        age sex     fracture  weight_kg  height_cm      medication  \\\n",
       "0      469  57.052768   F  no fracture       64.0      155.5  Anticonvulsant   \n",
       "1     8724  75.741225   F  no fracture       78.0      162.0   No medication   \n",
       "2     6736  70.778900   M  no fracture       73.0      170.5   No medication   \n",
       "3    24180  78.247175   F  no fracture       60.0      148.0   No medication   \n",
       "4    17072  54.191877   M  no fracture       55.0      161.0   No medication   \n",
       "..     ...        ...  ..          ...        ...        ...             ...   \n",
       "164  21892  77.982543   M     fracture       74.0      164.0   No medication   \n",
       "165  24140  50.285303   F     fracture       59.0      161.0   No medication   \n",
       "166   6969  46.359721   M     fracture       67.0      169.0   No medication   \n",
       "167   5505  54.788368   M     fracture       70.0      166.0   No medication   \n",
       "168     71  69.994822   F     fracture       68.5      165.0   No medication   \n",
       "\n",
       "     waiting_time     bmd  \n",
       "0              18  0.8793  \n",
       "1              56  0.7946  \n",
       "2              10  0.9067  \n",
       "3              14  0.7112  \n",
       "4              20  0.7909  \n",
       "..            ...     ...  \n",
       "164            49  0.7941  \n",
       "165             6  0.7971  \n",
       "166            10  0.8037  \n",
       "167            14  0.8072  \n",
       "168            25  0.8664  \n",
       "\n",
       "[166 rows x 9 columns]"
      ]
     },
     "execution_count": 108,
     "metadata": {},
     "output_type": "execute_result"
    }
   ],
   "source": [
    "df.drop_duplicates(subset=['bmd'])"
   ]
  },
  {
   "cell_type": "code",
   "execution_count": 109,
   "id": "80deb4c5",
   "metadata": {},
   "outputs": [
    {
     "ename": "TypeError",
     "evalue": "You have to supply one of 'by' and 'level'",
     "output_type": "error",
     "traceback": [
      "\u001b[0;31m---------------------------------------------------------------------------\u001b[0m",
      "\u001b[0;31mTypeError\u001b[0m                                 Traceback (most recent call last)",
      "\u001b[0;32m/var/folders/bx/xs7n7r1x35j8lfkw6tcfql040000gn/T/ipykernel_62201/3220279162.py\u001b[0m in \u001b[0;36m<module>\u001b[0;34m\u001b[0m\n\u001b[0;32m----> 1\u001b[0;31m \u001b[0mdf\u001b[0m\u001b[0;34m.\u001b[0m\u001b[0mgroupby\u001b[0m\u001b[0;34m(\u001b[0m\u001b[0;34m)\u001b[0m\u001b[0;34m\u001b[0m\u001b[0;34m\u001b[0m\u001b[0m\n\u001b[0m",
      "\u001b[0;32m~/opt/anaconda3/lib/python3.9/site-packages/pandas/core/frame.py\u001b[0m in \u001b[0;36mgroupby\u001b[0;34m(self, by, axis, level, as_index, sort, group_keys, squeeze, observed, dropna)\u001b[0m\n\u001b[1;32m   7713\u001b[0m \u001b[0;34m\u001b[0m\u001b[0m\n\u001b[1;32m   7714\u001b[0m         \u001b[0;32mif\u001b[0m \u001b[0mlevel\u001b[0m \u001b[0;32mis\u001b[0m \u001b[0;32mNone\u001b[0m \u001b[0;32mand\u001b[0m \u001b[0mby\u001b[0m \u001b[0;32mis\u001b[0m \u001b[0;32mNone\u001b[0m\u001b[0;34m:\u001b[0m\u001b[0;34m\u001b[0m\u001b[0;34m\u001b[0m\u001b[0m\n\u001b[0;32m-> 7715\u001b[0;31m             \u001b[0;32mraise\u001b[0m \u001b[0mTypeError\u001b[0m\u001b[0;34m(\u001b[0m\u001b[0;34m\"You have to supply one of 'by' and 'level'\"\u001b[0m\u001b[0;34m)\u001b[0m\u001b[0;34m\u001b[0m\u001b[0;34m\u001b[0m\u001b[0m\n\u001b[0m\u001b[1;32m   7716\u001b[0m         \u001b[0maxis\u001b[0m \u001b[0;34m=\u001b[0m \u001b[0mself\u001b[0m\u001b[0;34m.\u001b[0m\u001b[0m_get_axis_number\u001b[0m\u001b[0;34m(\u001b[0m\u001b[0maxis\u001b[0m\u001b[0;34m)\u001b[0m\u001b[0;34m\u001b[0m\u001b[0;34m\u001b[0m\u001b[0m\n\u001b[1;32m   7717\u001b[0m \u001b[0;34m\u001b[0m\u001b[0m\n",
      "\u001b[0;31mTypeError\u001b[0m: You have to supply one of 'by' and 'level'"
     ]
    }
   ],
   "source": [
    "df.groupby()"
   ]
  },
  {
   "cell_type": "code",
   "execution_count": null,
   "id": "ca79477f",
   "metadata": {},
   "outputs": [],
   "source": []
  },
  {
   "cell_type": "code",
   "execution_count": null,
   "id": "a5df1876",
   "metadata": {},
   "outputs": [],
   "source": []
  },
  {
   "cell_type": "code",
   "execution_count": 110,
   "id": "53d1f937",
   "metadata": {},
   "outputs": [
    {
     "name": "stdout",
     "output_type": "stream",
     "text": [
      "Enter number:\n"
     ]
    },
    {
     "ename": "ValueError",
     "evalue": "invalid literal for int() with base 10: ''",
     "output_type": "error",
     "traceback": [
      "\u001b[0;31m---------------------------------------------------------------------------\u001b[0m",
      "\u001b[0;31mValueError\u001b[0m                                Traceback (most recent call last)",
      "\u001b[0;32m/var/folders/bx/xs7n7r1x35j8lfkw6tcfql040000gn/T/ipykernel_62201/2074395334.py\u001b[0m in \u001b[0;36m<module>\u001b[0;34m\u001b[0m\n\u001b[0;32m----> 1\u001b[0;31m \u001b[0mn\u001b[0m\u001b[0;34m=\u001b[0m\u001b[0mint\u001b[0m\u001b[0;34m(\u001b[0m\u001b[0minput\u001b[0m\u001b[0;34m(\u001b[0m\u001b[0;34m\"Enter number:\"\u001b[0m\u001b[0;34m)\u001b[0m\u001b[0;34m)\u001b[0m\u001b[0;34m\u001b[0m\u001b[0;34m\u001b[0m\u001b[0m\n\u001b[0m\u001b[1;32m      2\u001b[0m \u001b[0mtemp\u001b[0m\u001b[0;34m=\u001b[0m\u001b[0mn\u001b[0m\u001b[0;34m\u001b[0m\u001b[0;34m\u001b[0m\u001b[0m\n\u001b[1;32m      3\u001b[0m \u001b[0mrev\u001b[0m\u001b[0;34m=\u001b[0m\u001b[0;36m0\u001b[0m\u001b[0;34m\u001b[0m\u001b[0;34m\u001b[0m\u001b[0m\n\u001b[1;32m      4\u001b[0m \u001b[0;32mwhile\u001b[0m\u001b[0;34m(\u001b[0m\u001b[0mn\u001b[0m\u001b[0;34m>\u001b[0m\u001b[0;36m0\u001b[0m\u001b[0;34m)\u001b[0m\u001b[0;34m:\u001b[0m\u001b[0;34m\u001b[0m\u001b[0;34m\u001b[0m\u001b[0m\n\u001b[1;32m      5\u001b[0m     \u001b[0mdig\u001b[0m\u001b[0;34m=\u001b[0m\u001b[0mn\u001b[0m\u001b[0;34m%\u001b[0m\u001b[0;36m10\u001b[0m\u001b[0;34m\u001b[0m\u001b[0;34m\u001b[0m\u001b[0m\n",
      "\u001b[0;31mValueError\u001b[0m: invalid literal for int() with base 10: ''"
     ]
    }
   ],
   "source": [
    "n=int(input(\"Enter number:\"))\n",
    "temp=n\n",
    "rev=0\n",
    "while(n>0):\n",
    "    dig=n%10\n",
    "    rev=rev*10+dig\n",
    "    n=n//10\n",
    "if(temp==rev):\n",
    "    print(\"The number is a palindrome!\")\n",
    "else:\n",
    "    print(\"The number isn't a palindrome!\")\n"
   ]
  },
  {
   "cell_type": "code",
   "execution_count": 111,
   "id": "51229439",
   "metadata": {},
   "outputs": [
    {
     "ename": "KeyboardInterrupt",
     "evalue": "Interrupted by user",
     "output_type": "error",
     "traceback": [
      "\u001b[0;31m---------------------------------------------------------------------------\u001b[0m",
      "\u001b[0;31mKeyboardInterrupt\u001b[0m                         Traceback (most recent call last)",
      "\u001b[0;32m/var/folders/bx/xs7n7r1x35j8lfkw6tcfql040000gn/T/ipykernel_62201/4194004228.py\u001b[0m in \u001b[0;36m<module>\u001b[0;34m\u001b[0m\n\u001b[0;32m----> 1\u001b[0;31m \u001b[0mn\u001b[0m\u001b[0;34m=\u001b[0m\u001b[0mint\u001b[0m\u001b[0;34m(\u001b[0m\u001b[0minput\u001b[0m\u001b[0;34m(\u001b[0m\u001b[0;34m\"enter a number\"\u001b[0m\u001b[0;34m)\u001b[0m\u001b[0;34m)\u001b[0m\u001b[0;34m\u001b[0m\u001b[0;34m\u001b[0m\u001b[0m\n\u001b[0m\u001b[1;32m      2\u001b[0m \u001b[0mtemp\u001b[0m\u001b[0;34m=\u001b[0m\u001b[0mn\u001b[0m\u001b[0;34m\u001b[0m\u001b[0;34m\u001b[0m\u001b[0m\n\u001b[1;32m      3\u001b[0m \u001b[0mrev\u001b[0m\u001b[0;34m=\u001b[0m\u001b[0;36m0\u001b[0m\u001b[0;34m\u001b[0m\u001b[0;34m\u001b[0m\u001b[0m\n\u001b[1;32m      4\u001b[0m \u001b[0;32mwhile\u001b[0m\u001b[0;34m(\u001b[0m\u001b[0mn\u001b[0m\u001b[0;34m>\u001b[0m\u001b[0;36m0\u001b[0m\u001b[0;34m)\u001b[0m\u001b[0;34m:\u001b[0m\u001b[0;34m\u001b[0m\u001b[0;34m\u001b[0m\u001b[0m\n\u001b[1;32m      5\u001b[0m     \u001b[0mdig\u001b[0m\u001b[0;34m=\u001b[0m\u001b[0mn\u001b[0m\u001b[0;34m%\u001b[0m\u001b[0;36m10\u001b[0m\u001b[0;34m\u001b[0m\u001b[0;34m\u001b[0m\u001b[0m\n",
      "\u001b[0;32m~/opt/anaconda3/lib/python3.9/site-packages/ipykernel/kernelbase.py\u001b[0m in \u001b[0;36mraw_input\u001b[0;34m(self, prompt)\u001b[0m\n\u001b[1;32m   1175\u001b[0m                 \u001b[0;34m\"raw_input was called, but this frontend does not support input requests.\"\u001b[0m\u001b[0;34m\u001b[0m\u001b[0;34m\u001b[0m\u001b[0m\n\u001b[1;32m   1176\u001b[0m             )\n\u001b[0;32m-> 1177\u001b[0;31m         return self._input_request(\n\u001b[0m\u001b[1;32m   1178\u001b[0m             \u001b[0mstr\u001b[0m\u001b[0;34m(\u001b[0m\u001b[0mprompt\u001b[0m\u001b[0;34m)\u001b[0m\u001b[0;34m,\u001b[0m\u001b[0;34m\u001b[0m\u001b[0;34m\u001b[0m\u001b[0m\n\u001b[1;32m   1179\u001b[0m             \u001b[0mself\u001b[0m\u001b[0;34m.\u001b[0m\u001b[0m_parent_ident\u001b[0m\u001b[0;34m[\u001b[0m\u001b[0;34m\"shell\"\u001b[0m\u001b[0;34m]\u001b[0m\u001b[0;34m,\u001b[0m\u001b[0;34m\u001b[0m\u001b[0;34m\u001b[0m\u001b[0m\n",
      "\u001b[0;32m~/opt/anaconda3/lib/python3.9/site-packages/ipykernel/kernelbase.py\u001b[0m in \u001b[0;36m_input_request\u001b[0;34m(self, prompt, ident, parent, password)\u001b[0m\n\u001b[1;32m   1217\u001b[0m             \u001b[0;32mexcept\u001b[0m \u001b[0mKeyboardInterrupt\u001b[0m\u001b[0;34m:\u001b[0m\u001b[0;34m\u001b[0m\u001b[0;34m\u001b[0m\u001b[0m\n\u001b[1;32m   1218\u001b[0m                 \u001b[0;31m# re-raise KeyboardInterrupt, to truncate traceback\u001b[0m\u001b[0;34m\u001b[0m\u001b[0;34m\u001b[0m\u001b[0m\n\u001b[0;32m-> 1219\u001b[0;31m                 \u001b[0;32mraise\u001b[0m \u001b[0mKeyboardInterrupt\u001b[0m\u001b[0;34m(\u001b[0m\u001b[0;34m\"Interrupted by user\"\u001b[0m\u001b[0;34m)\u001b[0m \u001b[0;32mfrom\u001b[0m \u001b[0;32mNone\u001b[0m\u001b[0;34m\u001b[0m\u001b[0;34m\u001b[0m\u001b[0m\n\u001b[0m\u001b[1;32m   1220\u001b[0m             \u001b[0;32mexcept\u001b[0m \u001b[0mException\u001b[0m\u001b[0;34m:\u001b[0m\u001b[0;34m\u001b[0m\u001b[0;34m\u001b[0m\u001b[0m\n\u001b[1;32m   1221\u001b[0m                 \u001b[0mself\u001b[0m\u001b[0;34m.\u001b[0m\u001b[0mlog\u001b[0m\u001b[0;34m.\u001b[0m\u001b[0mwarning\u001b[0m\u001b[0;34m(\u001b[0m\u001b[0;34m\"Invalid Message:\"\u001b[0m\u001b[0;34m,\u001b[0m \u001b[0mexc_info\u001b[0m\u001b[0;34m=\u001b[0m\u001b[0;32mTrue\u001b[0m\u001b[0;34m)\u001b[0m\u001b[0;34m\u001b[0m\u001b[0;34m\u001b[0m\u001b[0m\n",
      "\u001b[0;31mKeyboardInterrupt\u001b[0m: Interrupted by user"
     ]
    }
   ],
   "source": [
    "n=int(input(\"enter a number\"))\n",
    "temp=n\n",
    "rev=0\n",
    "while(n>0):\n",
    "    dig=n%10\n",
    "    rev=rev%10 + dig\n",
    "    n=n//10\n",
    "if(temp==rev):\n",
    "    print(\"number is palindromei\")\n",
    "else:\n",
    "    print(\"not a palindromei\")\n",
    "\n",
    "\n",
    "\n"
   ]
  },
  {
   "cell_type": "code",
   "execution_count": null,
   "id": "e4c7b0fa",
   "metadata": {},
   "outputs": [],
   "source": []
  },
  {
   "cell_type": "code",
   "execution_count": null,
   "id": "6fb9cf5e",
   "metadata": {},
   "outputs": [],
   "source": [
    "# Python3 program explaining work\n",
    "# of randint() function\n",
    "\n",
    "# import random module\n",
    "import random\n",
    "\n",
    "# Generates a random number between\n",
    "# a given positive range\n",
    "r1 = random.randint(5, 15)\n",
    "print(\"Random number between 5 and 15 is % s\" % (r1))\n",
    "\n",
    "# Generates a random number between\n",
    "# two given negative range\n",
    "r2 = random.randint(-10, -2)\n",
    "print(\"Random number between -10 and -2 is % d\" % (r2))\n"
   ]
  },
  {
   "cell_type": "code",
   "execution_count": null,
   "id": "6f167d8e",
   "metadata": {},
   "outputs": [],
   "source": [
    "range(0,10)"
   ]
  },
  {
   "cell_type": "code",
   "execution_count": null,
   "id": "360561fc",
   "metadata": {},
   "outputs": [],
   "source": [
    "random.sample(range(1,100),10)"
   ]
  },
  {
   "cell_type": "code",
   "execution_count": 116,
   "id": "f3d3e479",
   "metadata": {},
   "outputs": [
    {
     "data": {
      "image/png": "[encoded data removed]",
      "text/plain": [
       "<Figure size 640x480 with 1 Axes>"
      ]
     },
     "metadata": {},
     "output_type": "display_data"
    }
   ],
   "source": [
    "#x = [4, 5, 10, 4, 3, 11, 14 , 6, 10, 12]\n",
    "#y = [21, 19, 24, 17, 16, 25, 24, 22, 21, 21]\n",
    "x=random.sample(range(1, 100), 10)\n",
    "y=random.sample(range(1, 100), 10)\n",
    "\n",
    "plt.scatter(x, y)\n",
    "plt.show()"
   ]
  },
  {
   "cell_type": "code",
   "execution_count": 117,
   "id": "cf699389",
   "metadata": {},
   "outputs": [
    {
     "data": {
      "image/png": "[encoded data removed]",
      "text/plain": [
       "<Figure size 640x480 with 1 Axes>"
      ]
     },
     "metadata": {},
     "output_type": "display_data"
    }
   ],
   "source": [
    "from sklearn.cluster import KMeans\n",
    "\n",
    "data = list(zip(x, y))\n",
    "inertias = []\n",
    "\n",
    "for i in range(1,11):\n",
    "    kmeans = KMeans(n_clusters=i)\n",
    "    kmeans.fit(data)\n",
    "    inertias.append(kmeans.inertia_)\n",
    "\n",
    "plt.plot(range(1,11), inertias, marker='o')\n",
    "plt.title('Elbow method')\n",
    "plt.xlabel('Number of clusters')\n",
    "plt.ylabel('Inertia')\n",
    "plt.show()"
   ]
  },
  {
   "cell_type": "code",
   "execution_count": 118,
   "id": "3a80a1f0",
   "metadata": {},
   "outputs": [
    {
     "data": {
      "image/png": "[encoded data removed]",
      "text/plain": [
       "<Figure size 640x480 with 1 Axes>"
      ]
     },
     "metadata": {},
     "output_type": "display_data"
    }
   ],
   "source": [
    "kmeans = KMeans(n_clusters=2)\n",
    "kmeans.fit(data)\n",
    "plt.scatter(x, y, c=kmeans.labels_)\n",
    "plt.show()"
   ]
  },
  {
   "cell_type": "code",
   "execution_count": null,
   "id": "3a60221a",
   "metadata": {},
   "outputs": [],
   "source": []
  },
  {
   "cell_type": "code",
   "execution_count": null,
   "id": "fe2036ca",
   "metadata": {},
   "outputs": [],
   "source": []
  },
  {
   "cell_type": "code",
   "execution_count": null,
   "id": "807cfe79",
   "metadata": {},
   "outputs": [],
   "source": []
  },
  {
   "cell_type": "code",
   "execution_count": null,
   "id": "a22ea7f3",
   "metadata": {},
   "outputs": [],
   "source": []
  },
  {
   "cell_type": "code",
   "execution_count": null,
   "id": "f68899f3",
   "metadata": {},
   "outputs": [],
   "source": []
  },
  {
   "cell_type": "code",
   "execution_count": null,
   "id": "ba9d80ae",
   "metadata": {},
   "outputs": [],
   "source": []
  },
  {
   "cell_type": "code",
   "execution_count": 26,
   "id": "90ded8e2",
   "metadata": {},
   "outputs": [
    {
     "data": {
      "text/latex": [
       "$\\displaystyle - e^{- x} \\sin{\\left(x \\right)} + e^{- x} \\cos{\\left(x \\right)}$"
      ],
      "text/plain": [
       "-exp(-x)*sin(x) + exp(-x)*cos(x)"
      ]
     },
     "execution_count": 26,
     "metadata": {},
     "output_type": "execute_result"
    }
   ],
   "source": [
    "import matplotlib.pyplot as plt\n",
    "import sympy as sp\n",
    "import numpy as np\n",
    " \n",
    "x = sp.Symbol('x')\n",
    "sp.diff(sp.sin(x)*sp.exp(-x), x)"
   ]
  },
  {
   "cell_type": "code",
   "execution_count": 36,
   "id": "0024fcdc",
   "metadata": {},
   "outputs": [
    {
     "data": {
      "text/latex": [
       "$\\displaystyle \\frac{e^{- x} \\sin^{2}{\\left(x \\right)}}{5} - \\frac{e^{- x} \\sin{\\left(x \\right)} \\cos{\\left(x \\right)}}{5} - \\frac{e^{- x} \\cos^{2}{\\left(x \\right)}}{5}$"
      ],
      "text/plain": [
       "exp(-x)*sin(x)**2/5 - exp(-x)*sin(x)*cos(x)/5 - exp(-x)*cos(x)**2/5"
      ]
     },
     "execution_count": 36,
     "metadata": {},
     "output_type": "execute_result"
    }
   ],
   "source": [
    "sp.integrate(sp.sin(x)*sp.cos(x)*sp.exp(-x),x)"
   ]
  },
  {
   "cell_type": "code",
   "execution_count": 56,
   "id": "fc31ff7a",
   "metadata": {},
   "outputs": [
    {
     "data": {
      "text/plain": [
       "-6.586833385129708"
      ]
     },
     "execution_count": 56,
     "metadata": {},
     "output_type": "execute_result"
    }
   ],
   "source": [
    "from scipy.integrate import quad\n",
    "def f(x):\n",
    "    return(sp.sin(x)*sp.exp(-x)*sp.cos(x)*x**10)\n",
    "i=quad(f,0,2)\n",
    "i[0]"
   ]
  },
  {
   "cell_type": "code",
   "execution_count": 57,
   "id": "a556292c",
   "metadata": {},
   "outputs": [
    {
     "data": {
      "text/latex": [
       "$\\displaystyle - \\frac{\\sin^{2}{\\left(x \\right)}}{2}$"
      ],
      "text/plain": [
       "-sin(x)**2/2"
      ]
     },
     "execution_count": 57,
     "metadata": {},
     "output_type": "execute_result"
    }
   ],
   "source": [
    "sp.integrate(sp.sin(-x)*sp.cos(x))"
   ]
  },
  {
   "cell_type": "code",
   "execution_count": 58,
   "id": "4f030c38",
   "metadata": {},
   "outputs": [
    {
     "data": {
      "text/latex": [
       "$\\displaystyle - \\cos{\\left(x \\right)}$"
      ],
      "text/plain": [
       "-cos(x)"
      ]
     },
     "execution_count": 58,
     "metadata": {},
     "output_type": "execute_result"
    }
   ],
   "source": [
    "import sympy as sp\n",
    "sp.integrate(sp.sin(x),x)"
   ]
  },
  {
   "cell_type": "code",
   "execution_count": 59,
   "id": "b98b89f5",
   "metadata": {},
   "outputs": [
    {
     "data": {
      "text/latex": [
       "$\\displaystyle \\cos{\\left(x \\right)}$"
      ],
      "text/plain": [
       "cos(x)"
      ]
     },
     "execution_count": 59,
     "metadata": {},
     "output_type": "execute_result"
    }
   ],
   "source": [
    "sp.diff(sp.sin(x),x,)"
   ]
  },
  {
   "cell_type": "code",
   "execution_count": 60,
   "id": "710232e0",
   "metadata": {},
   "outputs": [
    {
     "data": {
      "text/latex": [
       "$\\displaystyle \\frac{x^{11}}{11}$"
      ],
      "text/plain": [
       "x**11/11"
      ]
     },
     "execution_count": 60,
     "metadata": {},
     "output_type": "execute_result"
    }
   ],
   "source": [
    "import sympy as sp\n",
    "sp.integrate(x**10,x)"
   ]
  },
  {
   "cell_type": "code",
   "execution_count": 61,
   "id": "64bd9113",
   "metadata": {},
   "outputs": [
    {
     "data": {
      "text/latex": [
       "$\\displaystyle 10 x^{9}$"
      ],
      "text/plain": [
       "10*x**9"
      ]
     },
     "execution_count": 61,
     "metadata": {},
     "output_type": "execute_result"
    }
   ],
   "source": [
    "sp.diff(x**10,x)"
   ]
  },
  {
   "cell_type": "code",
   "execution_count": 65,
   "id": "3113e39c",
   "metadata": {},
   "outputs": [
    {
     "data": {
      "text/latex": [
       "$\\displaystyle -0.0756096117424242$"
      ],
      "text/plain": [
       "-0.0756096117424242"
      ]
     },
     "execution_count": 65,
     "metadata": {},
     "output_type": "execute_result"
    }
   ],
   "source": [
    "sp.bernoulli(10,.5)"
   ]
  },
  {
   "cell_type": "code",
   "execution_count": 70,
   "id": "b998b92d",
   "metadata": {},
   "outputs": [
    {
     "data": {
      "text/latex": [
       "$\\displaystyle 120$"
      ],
      "text/plain": [
       "120"
      ]
     },
     "execution_count": 70,
     "metadata": {},
     "output_type": "execute_result"
    }
   ],
   "source": [
    "sp.binomial(10,3).expand()"
   ]
  },
  {
   "cell_type": "code",
   "execution_count": 71,
   "id": "d353ea77",
   "metadata": {},
   "outputs": [
    {
     "data": {
      "text/latex": [
       "$\\displaystyle 15$"
      ],
      "text/plain": [
       "15"
      ]
     },
     "execution_count": 71,
     "metadata": {},
     "output_type": "execute_result"
    }
   ],
   "source": [
    "sp.Abs(-15)"
   ]
  },
  {
   "cell_type": "code",
   "execution_count": 72,
   "id": "5b952d32",
   "metadata": {},
   "outputs": [
    {
     "name": "stdout",
     "output_type": "stream",
     "text": [
      "Requirement already satisfied: sympy in ./opt/anaconda3/lib/python3.9/site-packages (1.10.1)\n",
      "Requirement already satisfied: mpmath>=0.19 in ./opt/anaconda3/lib/python3.9/site-packages (from sympy) (1.2.1)\n",
      "Note: you may need to restart the kernel to use updated packages.\n"
     ]
    }
   ],
   "source": [
    "pip install sympy "
   ]
  },
  {
   "cell_type": "code",
   "execution_count": 4,
   "id": "c320863e",
   "metadata": {},
   "outputs": [],
   "source": [
    "from sympy import * \n"
   ]
  },
  {
   "cell_type": "code",
   "execution_count": 10,
   "id": "68bc5403",
   "metadata": {},
   "outputs": [
    {
     "data": {
      "text/latex": [
       "$\\displaystyle \\pi$"
      ],
      "text/plain": [
       "pi"
      ]
     },
     "execution_count": 10,
     "metadata": {},
     "output_type": "execute_result"
    }
   ],
   "source": [
    "pi"
   ]
  },
  {
   "cell_type": "code",
   "execution_count": 120,
   "id": "d7fe387a",
   "metadata": {},
   "outputs": [
    {
     "ename": "SyntaxError",
     "evalue": "invalid syntax (2690955455.py, line 8)",
     "output_type": "error",
     "traceback": [
      "\u001b[0;36m  File \u001b[0;32m\"/var/folders/bx/xs7n7r1x35j8lfkw6tcfql040000gn/T/ipykernel_62201/2690955455.py\"\u001b[0;36m, line \u001b[0;32m8\u001b[0m\n\u001b[0;31m    import warnings warnings.filterwarnings(\"ignore\")\u001b[0m\n\u001b[0m                    ^\u001b[0m\n\u001b[0;31mSyntaxError\u001b[0m\u001b[0;31m:\u001b[0m invalid syntax\n"
     ]
    }
   ],
   "source": [
    "## Import required libraries\n",
    "import os\n",
    "import pandas as pd\n",
    "import numpy as np\n",
    "import matplotlib.pyplot as plt\n",
    "%matplotlib inline\n",
    "from arch import arch_model\n",
    "import warnings warnings.filterwarnings(\"ignore\")\n"
   ]
  },
  {
   "cell_type": "code",
   "execution_count": 121,
   "id": "842a8edc",
   "metadata": {},
   "outputs": [
    {
     "ename": "NameError",
     "evalue": "name 'tsplot' is not defined",
     "output_type": "error",
     "traceback": [
      "\u001b[0;31m---------------------------------------------------------------------------\u001b[0m",
      "\u001b[0;31mNameError\u001b[0m                                 Traceback (most recent call last)",
      "\u001b[0;32m/var/folders/bx/xs7n7r1x35j8lfkw6tcfql040000gn/T/ipykernel_62201/1595183400.py\u001b[0m in \u001b[0;36m<module>\u001b[0;34m\u001b[0m\n\u001b[1;32m      9\u001b[0m  \u001b[0mY\u001b[0m\u001b[0;34m[\u001b[0m\u001b[0mt\u001b[0m\u001b[0;34m]\u001b[0m \u001b[0;34m=\u001b[0m \u001b[0mw\u001b[0m\u001b[0;34m[\u001b[0m\u001b[0mt\u001b[0m\u001b[0;34m]\u001b[0m \u001b[0;34m*\u001b[0m \u001b[0mnp\u001b[0m\u001b[0;34m.\u001b[0m\u001b[0msqrt\u001b[0m\u001b[0;34m(\u001b[0m\u001b[0;34m(\u001b[0m\u001b[0ma0\u001b[0m \u001b[0;34m+\u001b[0m \u001b[0ma1\u001b[0m\u001b[0;34m*\u001b[0m\u001b[0my\u001b[0m\u001b[0;34m[\u001b[0m\u001b[0mt\u001b[0m\u001b[0;34m-\u001b[0m\u001b[0;36m1\u001b[0m\u001b[0;34m]\u001b[0m\u001b[0;34m**\u001b[0m\u001b[0;36m2\u001b[0m\u001b[0;34m)\u001b[0m\u001b[0;34m)\u001b[0m   \u001b[0;31m#Formula of ARCH(1)\u001b[0m\u001b[0;34m\u001b[0m\u001b[0;34m\u001b[0m\u001b[0m\n\u001b[1;32m     10\u001b[0m \u001b[0;31m# simulated ARCH(1) series, looks like white noise\u001b[0m\u001b[0;34m\u001b[0m\u001b[0;34m\u001b[0m\u001b[0m\n\u001b[0;32m---> 11\u001b[0;31m \u001b[0mtsplot\u001b[0m\u001b[0;34m(\u001b[0m\u001b[0mY\u001b[0m\u001b[0;34m,\u001b[0m \u001b[0mlags\u001b[0m\u001b[0;34m=\u001b[0m\u001b[0;36m30\u001b[0m\u001b[0;34m)\u001b[0m\u001b[0;34m\u001b[0m\u001b[0;34m\u001b[0m\u001b[0m\n\u001b[0m",
      "\u001b[0;31mNameError\u001b[0m: name 'tsplot' is not defined"
     ]
    }
   ],
   "source": [
    "np.random.seed(13)\n",
    "# a0 and a1 are constant and should be greater than 0\n",
    "a0 = 2\n",
    "a1 = .5\n",
    "# Random number generator with size 1000:\n",
    "y = w = np.random.normal(size=1000)\n",
    "Y = np.empty_like(y)\n",
    "for t in range(len(y)):\n",
    " Y[t] = w[t] * np.sqrt((a0 + a1*y[t-1]**2))   #Formula of ARCH(1)\n",
    "# simulated ARCH(1) series, looks like white noise\n",
    "tsplot(Y, lags=30)"
   ]
  },
  {
   "cell_type": "code",
   "execution_count": null,
   "id": "23a47325",
   "metadata": {},
   "outputs": [],
   "source": []
  },
  {
   "cell_type": "code",
   "execution_count": null,
   "id": "bf25534f",
   "metadata": {},
   "outputs": [],
   "source": []
  },
  {
   "cell_type": "code",
   "execution_count": null,
   "id": "be366398",
   "metadata": {},
   "outputs": [],
   "source": []
  }
 ],
 "metadata": {
  "kernelspec": {
   "display_name": "Python 3 (ipykernel)",
   "language": "python",
   "name": "python3"
  },
  "language_info": {
   "codemirror_mode": {
    "name": "ipython",
    "version": 3
   },
   "file_extension": ".py",
   "mimetype": "text/x-python",
   "name": "python",
   "nbconvert_exporter": "python",
   "pygments_lexer": "ipython3",
   "version": "3.9.13"
  }
 },
 "nbformat": 4,
 "nbformat_minor": 5
}
